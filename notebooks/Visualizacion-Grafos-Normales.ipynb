{
 "cells": [
  {
   "cell_type": "code",
   "execution_count": 1,
   "id": "labeled-smoke",
   "metadata": {},
   "outputs": [],
   "source": [
    "import pandas as pd\n",
    "import numpy as np\n",
    "import itertools\n",
    "\n",
    "# Visualización de grafos\n",
    "from pyvis.network import Network\n",
    "\n",
    "# Interacciones en el notebook\n",
    "import ipywidgets as widgets\n",
    "from ipywidgets import interact, interact_manual"
   ]
  },
  {
   "cell_type": "code",
   "execution_count": 2,
   "id": "caroline-pleasure",
   "metadata": {},
   "outputs": [],
   "source": [
    "# Cargo los datos de las interacciones\n",
    "artworks_data = pd.read_csv('/data/Prado_artworks_wikidata.csv')\n",
    "interactions_df = pd.read_csv('/data/Prado_emotions.csv')\n",
    "\n",
    "# Creo diccionarios para obtener imagenes y títulos de los cuadros\n",
    "artwork_ids = np.unique(interactions_df.artworkId.values)\n",
    "artworks_dict = dict()\n",
    "images_dict = dict()\n",
    "for art_id in artwork_ids:\n",
    "    title = artworks_data[artworks_data['ID'] == art_id]['Title'].values[0]\n",
    "    image = artworks_data[artworks_data['ID'] == art_id]['Image URL'].values[0]\n",
    "    artworks_dict[art_id] = title\n",
    "    images_dict[art_id] = image\n",
    "    \n",
    "# Create array of emotions and its colors\n",
    "colors = ['#e6194b', '#3cb44b', '#ffe119', '#4363d8', '#f58231', '#911eb4', '#46f0f0', '#f032e6', '#bcf60c', '#fabebe', '#008080', '#e6beff', '#9a6324', '#fffac8', '#800000', '#aaffc3', '#808000', '#ffd8b1', '#000075', '#808080']\n",
    "emotions = np.unique(interactions_df['emotion'].values)\n",
    "emotions_colors = dict()\n",
    "for i in range(len(emotions)):\n",
    "    emotions_colors[emotions[i]] = colors[i]"
   ]
  },
  {
   "cell_type": "code",
   "execution_count": 3,
   "id": "monthly-casino",
   "metadata": {},
   "outputs": [],
   "source": [
    "def get_users_relations(df, emotion=None):\n",
    "    \"\"\"\n",
    "    Función para obtener las relaciones que tienen los usuarios entre sí. Es una lista que, en cada elemento,\n",
    "    se muestra una lista de los usuarios que han interactuado con la misma emoción (o emoción seleccionada)\n",
    "    con un mismo cuadro.\n",
    "    \"\"\"\n",
    "    if emotion == None:\n",
    "        return df.groupby(by=['artworkId', 'emotion'])['userId'].apply(list).values\n",
    "    else:\n",
    "        aux_df = df[df['emotion'] == emotion]\n",
    "        return aux_df.groupby(by=['artworkId', 'emotion'])['userId'].apply(list).values"
   ]
  },
  {
   "cell_type": "code",
   "execution_count": 4,
   "id": "postal-norfolk",
   "metadata": {},
   "outputs": [],
   "source": [
    "def get_users_edges(df, emotion=None):\n",
    "    users_relations = get_users_relations(df, emotion)\n",
    "    \n",
    "    # Obtengo todos los pares de relaciones\n",
    "    relations_pairs = [[pair for pair in itertools.combinations(relations, 2)] for relations in users_relations]\n",
    "    edges = [edge for relations in relations_pairs for edge in relations]\n",
    "    \n",
    "    # Obtengo el peso de cada eje\n",
    "    edges_dict = dict()\n",
    "    for edge in edges:\n",
    "        if edge in edges_dict:\n",
    "            edges_dict[edge] += 1\n",
    "        elif (edge[1], edge[0]) in edges_dict:\n",
    "            edges_dict[(edge[1], edge[0])] += 1\n",
    "        else:\n",
    "            edges_dict[edge] = 1\n",
    "    \n",
    "    # Creo la lista final de ejes (from, to, weigth)\n",
    "    user_edges = []\n",
    "    for i in edges_dict:\n",
    "        user_edges.append((i[0], i[1], edges_dict[i]))\n",
    "        \n",
    "    return user_edges"
   ]
  },
  {
   "cell_type": "code",
   "execution_count": 5,
   "id": "public-tennis",
   "metadata": {},
   "outputs": [],
   "source": [
    "def get_artworks_relations(df, emotion=None):\n",
    "    \"\"\"\n",
    "    Función para obtener las relaciones que tienen los cuadros entre sí. Es una lista que, en cada elemento,\n",
    "    se muestra una lista de los cuadros que han recibido la misma emoción (o emoción seleccionada)\n",
    "    por parte del mismo usuario.\n",
    "    \"\"\"\n",
    "    if emotion == None:\n",
    "        return df.groupby(by=['userId', 'emotion'])['artworkId'].apply(list).values\n",
    "    else:\n",
    "        aux_df = df[df['emotion'] == emotion]\n",
    "        return aux_df.groupby(by=['userId', 'emotion'])['artworkId'].apply(list).values"
   ]
  },
  {
   "cell_type": "code",
   "execution_count": 6,
   "id": "sexual-segment",
   "metadata": {},
   "outputs": [],
   "source": [
    "def get_artworks_edges(df, emotion=None):\n",
    "    artworks_relations = get_artworks_relations(df, emotion)\n",
    "    \n",
    "    # Obtengo todos los pares de relaciones\n",
    "    relations_pairs = [[pair for pair in itertools.combinations(relations, 2)] for relations in artworks_relations]\n",
    "    edges = [edge for relations in relations_pairs for edge in relations]\n",
    "    \n",
    "    # Obtengo el peso de cada eje\n",
    "    edges_dict = dict()\n",
    "    for edge in edges:\n",
    "        if edge in edges_dict:\n",
    "            edges_dict[edge] += 1\n",
    "        elif (edge[1], edge[0]) in edges_dict:\n",
    "            edges_dict[(edge[1], edge[0])] += 1\n",
    "        else:\n",
    "            edges_dict[edge] = 1\n",
    "    \n",
    "    # Creo la lista final de ejes (from, to, weigth)\n",
    "    artwork_edges = []\n",
    "    for i in edges_dict:\n",
    "        artwork_edges.append((i[0], i[1], edges_dict[i]))\n",
    "        \n",
    "    return artwork_edges"
   ]
  },
  {
   "cell_type": "code",
   "execution_count": 7,
   "id": "classified-acquisition",
   "metadata": {},
   "outputs": [],
   "source": [
    "def show_graph_users(emotion=None, show_physics=False):\n",
    "    nodes = np.unique(interactions_df['userId'].values)\n",
    "    edges = get_users_edges(interactions_df, emotion)\n",
    "\n",
    "    vis = Network(notebook=True, width=\"1000px\", height=\"800px\")\n",
    "\n",
    "    for n in nodes:\n",
    "        vis.add_node(str(n), size=1)\n",
    "\n",
    "    for e in edges:\n",
    "        vis.add_edge(str(e[0]), str(e[1]), value=e[2])\n",
    "    \n",
    "    if show_physics:\n",
    "        vis.show_buttons(filter_=['physics'])\n",
    "        \n",
    "    return vis.show('users_graph.html')"
   ]
  },
  {
   "cell_type": "code",
   "execution_count": 8,
   "id": "human-province",
   "metadata": {},
   "outputs": [],
   "source": [
    "def show_graph_artworks(emotion=None, show_physics=False):\n",
    "    nodes = np.unique(interactions_df['artworkId'].values)\n",
    "    edges = get_artworks_edges(interactions_df, emotion)\n",
    "    \n",
    "    vis = Network(notebook=True, width=\"1000px\", height=\"800px\")\n",
    "\n",
    "    for n in nodes:\n",
    "        vis.add_node(str(artworks_dict[n]), size=30, shape='image', image =images_dict[n])\n",
    "\n",
    "    for e in edges:\n",
    "        vis.add_edge(str(artworks_dict[e[0]]), str(artworks_dict[e[1]]), value=e[2])\n",
    "\n",
    "    if show_physics:\n",
    "        vis.show_buttons(filter_=['physics'])\n",
    "        \n",
    "    return vis.show('artworks_graph.html')"
   ]
  },
  {
   "cell_type": "code",
   "execution_count": 9,
   "id": "discrete-cardiff",
   "metadata": {},
   "outputs": [],
   "source": [
    "emotions_options = list(emotions)\n",
    "emotions_options.append(None)"
   ]
  },
  {
   "cell_type": "code",
   "execution_count": 10,
   "id": "numeric-bobby",
   "metadata": {},
   "outputs": [
    {
     "data": {
      "application/vnd.jupyter.widget-view+json": {
       "model_id": "c47a598c968b4dd2a0659c9d2ad1b5ce",
       "version_major": 2,
       "version_minor": 0
      },
      "text/plain": [
       "interactive(children=(Dropdown(description='nodes', options=('artworks', 'users'), value='artworks'), Dropdown…"
      ]
     },
     "metadata": {},
     "output_type": "display_data"
    }
   ],
   "source": [
    "@interact_manual\n",
    "def show_graps(nodes=['artworks', 'users'], emotion=emotions_options, show_physics=False):\n",
    "    \n",
    "    if nodes == 'artworks':\n",
    "        return show_graph_artworks(emotion, show_physics)\n",
    "    else:\n",
    "        return show_graph_users(emotion, show_physics)"
   ]
  },
  {
   "cell_type": "code",
   "execution_count": null,
   "id": "infectious-margin",
   "metadata": {},
   "outputs": [],
   "source": []
  }
 ],
 "metadata": {
  "kernelspec": {
   "display_name": "Python 3",
   "language": "python",
   "name": "python3"
  },
  "language_info": {
   "codemirror_mode": {
    "name": "ipython",
    "version": 3
   },
   "file_extension": ".py",
   "mimetype": "text/x-python",
   "name": "python",
   "nbconvert_exporter": "python",
   "pygments_lexer": "ipython3",
   "version": "3.8.6"
  }
 },
 "nbformat": 4,
 "nbformat_minor": 5
}
