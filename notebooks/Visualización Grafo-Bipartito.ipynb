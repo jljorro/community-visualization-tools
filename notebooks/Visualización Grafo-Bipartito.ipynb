{
 "cells": [
  {
   "cell_type": "code",
   "execution_count": 1,
   "id": "racial-ending",
   "metadata": {},
   "outputs": [],
   "source": [
    "import pandas as pd\n",
    "import numpy as np\n",
    "import itertools\n",
    "\n",
    "# Visualización de grafos\n",
    "import networkx as nx\n",
    "from networkx.algorithms import bipartite\n",
    "from pyvis.network import Network\n",
    "\n",
    "# Interacciones en el notebook\n",
    "import ipywidgets as widgets\n",
    "from ipywidgets import interact, interact_manual"
   ]
  },
  {
   "cell_type": "code",
   "execution_count": 2,
   "id": "technical-fight",
   "metadata": {},
   "outputs": [],
   "source": [
    "# Load Data\n",
    "artworks_data = pd.read_csv('/data/Prado_artworks_wikidata.csv')\n",
    "interactions = pd.read_csv('/data/Prado_emotions.csv')\n",
    "\n",
    "# Lista de usuarios para los nodos\n",
    "users_nodes = np.unique(interactions.userId.values)\n",
    "\n",
    "# Creo diccionarios para obtener imagenes y títulos de los cuadros\n",
    "artwork_ids = np.unique(interactions.artworkId.values)\n",
    "artworks_dict = dict()\n",
    "images_dict = dict()\n",
    "for art_id in artwork_ids:\n",
    "    title = artworks_data[artworks_data['ID'] == art_id]['Title'].values[0]\n",
    "    image = artworks_data[artworks_data['ID'] == art_id]['Image URL'].values[0]\n",
    "    artworks_dict[art_id] = title\n",
    "    images_dict[title] = image\n",
    "    \n",
    "# Create array of emotions and its colors\n",
    "colors = ['#e6194b', '#3cb44b', '#ffe119', '#4363d8', '#f58231', '#911eb4', '#46f0f0', '#f032e6', '#bcf60c', '#fabebe', '#008080', '#e6beff', '#9a6324', '#fffac8', '#800000', '#aaffc3', '#808000', '#ffd8b1', '#000075', '#808080']\n",
    "emotions = np.unique(interactions['emotion'].values)\n",
    "emotions_colors = dict()\n",
    "for i in range(len(emotions)):\n",
    "    emotions_colors[emotions[i]] = colors[i]\n",
    "    \n",
    "emotions_options = list(emotions)\n",
    "emotions_options.append(None)"
   ]
  },
  {
   "cell_type": "code",
   "execution_count": 3,
   "id": "enormous-musical",
   "metadata": {},
   "outputs": [],
   "source": [
    "# Creamos el grafo bipartito\n",
    "G = nx.Graph()\n",
    "\n",
    "# Incluyo los nodos\n",
    "G.add_nodes_from(users_nodes, bipartite=0)\n",
    "G.add_nodes_from(list(artworks_dict.values()), bipartite=1)\n",
    "\n",
    "# Incluyo los ejes\n",
    "for i in range(len(interactions)):\n",
    "    user = interactions.iloc[i]['userId']\n",
    "    artwork = artworks_dict[interactions.iloc[i]['artworkId']]\n",
    "    emotion = interactions.iloc[i]['emotion']\n",
    "    polarity = interactions.iloc[i]['Polarity']\n",
    "    G.add_edge(user, artwork, color=emotions_colors[emotion], emotion=emotion, polarity=polarity) "
   ]
  },
  {
   "cell_type": "code",
   "execution_count": 4,
   "id": "cultural-christopher",
   "metadata": {},
   "outputs": [
    {
     "data": {
      "application/vnd.jupyter.widget-view+json": {
       "model_id": "43feeb9f7f2b4e87a66beff53b134709",
       "version_major": 2,
       "version_minor": 0
      },
      "text/plain": [
       "interactive(children=(Dropdown(description='emotion', options=('agreeableness', 'anger', 'anticipation', 'arro…"
      ]
     },
     "metadata": {},
     "output_type": "display_data"
    }
   ],
   "source": [
    "@interact_manual\n",
    "def visualize_graph_by_emotion(emotion=emotions_options, show_physics=False):\n",
    "    vis = Network(notebook=True, width=\"1000px\", height=\"800px\")\n",
    "    \n",
    "    for node, node_attr in G.nodes(data=True):\n",
    "        if node_attr['bipartite'] == 0:\n",
    "            vis.add_node(str(node), **node_attr, group=node_attr['bipartite'], size=1)\n",
    "        else:\n",
    "            vis.add_node(str(node), **node_attr, group=node_attr['bipartite'], size=30, shape='image', image =images_dict[node])\n",
    "    \n",
    "    for source,target,edge_attrs in G.edges(data=True):\n",
    "        if emotion != None:\n",
    "            if edge_attrs['emotion'] == emotion:\n",
    "                vis.add_edge(str(source), str(target), **edge_attrs)\n",
    "        else:\n",
    "            vis.add_edge(str(source), str(target), **edge_attrs)\n",
    "    \n",
    "    if show_physics:\n",
    "        vis.show_buttons(filter_=['physics'])\n",
    "    \n",
    "    return vis.show('graph_bipartite.html')"
   ]
  },
  {
   "cell_type": "code",
   "execution_count": null,
   "id": "fallen-member",
   "metadata": {},
   "outputs": [],
   "source": []
  }
 ],
 "metadata": {
  "kernelspec": {
   "display_name": "Python 3",
   "language": "python",
   "name": "python3"
  },
  "language_info": {
   "codemirror_mode": {
    "name": "ipython",
    "version": 3
   },
   "file_extension": ".py",
   "mimetype": "text/x-python",
   "name": "python",
   "nbconvert_exporter": "python",
   "pygments_lexer": "ipython3",
   "version": "3.8.6"
  }
 },
 "nbformat": 4,
 "nbformat_minor": 5
}
