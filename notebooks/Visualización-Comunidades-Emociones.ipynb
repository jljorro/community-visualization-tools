{
 "cells": [
  {
   "cell_type": "code",
   "execution_count": 1,
   "id": "rough-migration",
   "metadata": {},
   "outputs": [],
   "source": [
    "import pandas as pd\n",
    "import numpy as np\n",
    "import itertools\n",
    "import logging\n",
    "\n",
    "# Visualización de grafos\n",
    "from pyvis.network import Network\n",
    "\n",
    "# Interacciones en el notebook\n",
    "import ipywidgets as widgets\n",
    "from ipywidgets import interact, interact_manual"
   ]
  },
  {
   "cell_type": "code",
   "execution_count": 2,
   "id": "polyphonic-throw",
   "metadata": {},
   "outputs": [],
   "source": [
    "# Configuro el loggin\n",
    "logging.basicConfig(level=logging.DEBUG, filename='community-visualization.log', filemode='w')\n",
    "\n",
    "# Cargo los datos de las interacciones\n",
    "artworks_data = pd.read_csv('/data/Prado_artworks_wikidata.csv')\n",
    "interactions_df = pd.read_csv('/data/Prado_emotions.csv')\n",
    "users_df = pd.read_csv('/data/Prado_users.csv')\n",
    "\n",
    "# Comunidades de ejemplo (usando emoción Anger)\n",
    "anger_1 = [262, 306, 132, 247, 33]\n",
    "anger_2 = [33, 50, 99, 87, 103, 84, 8, 86]\n",
    "anger_3 = [103, 84, 171, 98, 11, 26, 79]\n",
    "anger_4 = [26, 11, 59, 117, 175]\n",
    "anger_5 = [300, 44, 103, 243, 31, 225, 63, 153, 147, 106, 17]\n",
    "anger_6 = [20, 159, 91, 92]\n",
    "anger_7 = [16, 149, 140]\n",
    "communities = [anger_1, anger_2, anger_3, anger_4, anger_5, anger_6, anger_7]\n",
    "\n",
    "# Creo diccionarios para obtener imagenes y títulos de los cuadros\n",
    "artwork_ids = np.unique(interactions_df.artworkId.values)\n",
    "artworks_dict = dict()\n",
    "images_dict = dict()\n",
    "for art_id in artwork_ids:\n",
    "    title = artworks_data[artworks_data['ID'] == art_id]['Title'].values[0]\n",
    "    image = artworks_data[artworks_data['ID'] == art_id]['Image URL'].values[0]\n",
    "    artworks_dict[art_id] = title\n",
    "    images_dict[art_id] = image\n",
    "    \n",
    "# Create array of emotions and its colors\n",
    "colors = ['#e6194b', '#3cb44b', '#ffe119', '#4363d8', '#f58231', '#911eb4', '#46f0f0', '#f032e6', '#bcf60c',\n",
    "          '#fabebe', '#008080', '#e6beff', '#9a6324', '#fffac8', '#800000', '#aaffc3', '#808000', '#ffd8b1', \n",
    "          '#000075', '#808080']\n",
    "emotions = np.unique(interactions_df['emotion'].values)\n",
    "emotions_colors = dict()\n",
    "for i in range(len(emotions)):\n",
    "    emotions_colors[emotions[i]] = colors[i]"
   ]
  },
  {
   "cell_type": "code",
   "execution_count": 3,
   "id": "knowing-thailand",
   "metadata": {},
   "outputs": [],
   "source": [
    "# Creo una lista de colores para las diferentes comunidades\n",
    "colors = ['#e6194b', '#3cb44b', '#ffe119', '#4363d8', '#f58231', '#911eb4', '#46f0f0']\n",
    "\n",
    "# Creo un diccionario de usuarios --> comunidades\n",
    "users_communities_dict = dict()\n",
    "communities_colors_dict= {'None':'#EAEAEA'}\n",
    "communities_names = []\n",
    "for i in range(len(communities)):\n",
    "    community_name = 'anger_' + str(i)\n",
    "    communities_names.append(community_name)\n",
    "    communities_colors_dict[community_name] = colors[i]\n",
    "    for user in communities[i]:\n",
    "        if user in users_communities_dict:\n",
    "            users_communities_dict[user].append(community_name)\n",
    "        else:\n",
    "            users_communities_dict[user] = [community_name]"
   ]
  },
  {
   "cell_type": "code",
   "execution_count": 4,
   "id": "multiple-balloon",
   "metadata": {},
   "outputs": [],
   "source": [
    "def get_users_relations(df, emotion=None):\n",
    "    \"\"\"\n",
    "    Función para obtener las relaciones que tienen los usuarios entre sí. Es una lista que, en cada elemento,\n",
    "    se muestra una lista de los usuarios que han interactuado con la misma emoción (o emoción seleccionada)\n",
    "    con un mismo cuadro.\n",
    "    \"\"\"\n",
    "    if emotion == None:\n",
    "        return df.groupby(by=['artworkId', 'emotion'])['userId'].apply(list).values\n",
    "    else:\n",
    "        aux_df = df[df['emotion'] == emotion]\n",
    "        return aux_df.groupby(by=['artworkId', 'emotion'])['userId'].apply(list).values"
   ]
  },
  {
   "cell_type": "code",
   "execution_count": 5,
   "id": "material-divide",
   "metadata": {},
   "outputs": [],
   "source": [
    "def get_users_edges(df, emotion=None):\n",
    "    users_relations = get_users_relations(df, emotion)\n",
    "    \n",
    "    # Obtengo todos los pares de relaciones\n",
    "    relations_pairs = [[pair for pair in itertools.combinations(relations, 2)] for relations in users_relations]\n",
    "    edges = [edge for relations in relations_pairs for edge in relations]\n",
    "    \n",
    "    # Obtengo el peso de cada eje\n",
    "    edges_dict = dict()\n",
    "    for edge in edges:\n",
    "        if edge in edges_dict:\n",
    "            edges_dict[edge] += 1\n",
    "        elif (edge[1], edge[0]) in edges_dict:\n",
    "            edges_dict[(edge[1], edge[0])] += 1\n",
    "        else:\n",
    "            edges_dict[edge] = 1\n",
    "    \n",
    "    # Creo la lista final de ejes (from, to, weigth)\n",
    "    user_edges = []\n",
    "    for i in edges_dict:\n",
    "        user_edges.append((i[0], i[1], edges_dict[i]))\n",
    "        \n",
    "    return user_edges"
   ]
  },
  {
   "cell_type": "code",
   "execution_count": 6,
   "id": "attractive-awareness",
   "metadata": {},
   "outputs": [],
   "source": [
    "def get_community_user(userId):\n",
    "    if userId in users_communities_dict:\n",
    "        return users_communities_dict[userId]\n",
    "    else:\n",
    "        return None"
   ]
  },
  {
   "cell_type": "code",
   "execution_count": 7,
   "id": "colored-processing",
   "metadata": {},
   "outputs": [],
   "source": [
    "def same_community(user1, user2):\n",
    "    community_u1 = get_community_user(user1)\n",
    "    community_u2 = get_community_user(user2)\n",
    "    \n",
    "    if community_u1 != None and community_u2 != None:\n",
    "        return list(set(community_u1).intersection(community_u2))\n",
    "    else:\n",
    "        return None"
   ]
  },
  {
   "cell_type": "code",
   "execution_count": 8,
   "id": "changed-ordering",
   "metadata": {},
   "outputs": [],
   "source": [
    "def get_nodes(vis, elements_to_show):\n",
    "    logging.info('get_nodes')\n",
    "    all_nodes = np.unique(interactions_df['userId'].values)\n",
    "    \n",
    "    for n in all_nodes:\n",
    "        logging.debug('Node-{}'.format(n))\n",
    "        \n",
    "        # Comprobamos su comunidad\n",
    "        communities = None\n",
    "        color_community = communities_colors_dict['None']\n",
    "        \n",
    "        if n in users_communities_dict:\n",
    "            communities = users_communities_dict[n]\n",
    "            color_community = communities_colors_dict[communities[0]]\n",
    "            logging.debug('Communities: {}'.format(communities))\n",
    "        else:\n",
    "            logging.debug('No Community')\n",
    "            \n",
    "        \n",
    "        if elements_to_show == 'All':\n",
    "            # Lo incluimos sin más\n",
    "            vis.add_node(str(n), color=color_community, size=3)\n",
    "            logging.debug('Added in All')\n",
    "        else:\n",
    "            if communities != None:\n",
    "                if elements_to_show == 'Only Communities':\n",
    "                    # Solo incluimos el nodo si pertenece a una comunidad\n",
    "                    if communities != None:\n",
    "                        vis.add_node(str(n), color=color_community, size=3)\n",
    "                        logging.debug('Added in Only Communities')\n",
    "\n",
    "                else:\n",
    "\n",
    "                    if elements_to_show in communities:\n",
    "                        color_community = communities_colors_dict[elements_to_show]\n",
    "                        vis.add_node(str(n), color=color_community, size=3)\n",
    "                        logging.debug('Added in {}'.format(elements_to_show))\n",
    "                \n",
    "    return vis   "
   ]
  },
  {
   "cell_type": "code",
   "execution_count": 9,
   "id": "agricultural-latin",
   "metadata": {},
   "outputs": [],
   "source": [
    "def get_edges(vis, emotion, elements_to_show):\n",
    "    all_edges = get_users_edges(interactions_df, emotion)\n",
    "    \n",
    "    for e in all_edges:\n",
    "        \n",
    "        common_communities = same_community(e[0], e[1])\n",
    "        edge_color = communities_colors_dict['None']\n",
    "        \n",
    "        if common_communities != None and len(common_communities) > 0:\n",
    "            edge_color = communities_colors_dict[common_communities[0]]\n",
    "           \n",
    "        if elements_to_show == 'Only Communities' and common_communities != None and len(common_communities) > 0:\n",
    "            vis.add_edge(str(e[0]), str(e[1]), color=edge_color, value=e[2])\n",
    "        elif elements_to_show == 'All':\n",
    "            vis.add_edge(str(e[0]), str(e[1]), color=edge_color, value=e[2])\n",
    "        else:\n",
    "            if common_communities != None and elements_to_show in common_communities:\n",
    "                edge_color = communities_colors_dict[elements_to_show]\n",
    "                vis.add_edge(str(e[0]), str(e[1]), color=edge_color, value=e[2])\n",
    "                \n",
    "    return vis "
   ]
  },
  {
   "cell_type": "code",
   "execution_count": 10,
   "id": "extensive-prime",
   "metadata": {},
   "outputs": [],
   "source": [
    "def show_graph_users(emotion=None, show_physics=False, elements_to_show='All'):\n",
    "    nodes = np.unique(interactions_df['userId'].values)\n",
    "    edges = get_users_edges(interactions_df, emotion)\n",
    "\n",
    "    vis = Network(notebook=True, width=\"1000px\", height=\"800px\")\n",
    "    '''\n",
    "    for n in nodes:\n",
    "        color_community = communities_colors_dict['None']\n",
    "        if n in users_communities_dict:\n",
    "            color_community = communities_colors_dict[users_communities_dict[n][0]]\n",
    "        vis.add_node(str(n), color=color_community, size=3)\n",
    "    '''\n",
    "    vis = get_nodes(vis, elements_to_show)\n",
    "    '''\n",
    "    for e in edges:\n",
    "        common_communities = same_community(e[0], e[1])\n",
    "        edge_color = communities_colors_dict['None']\n",
    "        if common_communities != None and len(common_communities) > 0:\n",
    "            edge_color = communities_colors_dict[common_communities[0]]\n",
    "        vis.add_edge(str(e[0]), str(e[1]), color=edge_color, value=e[2])\n",
    "    '''\n",
    "    vis = get_edges(vis, emotion, elements_to_show)\n",
    "    if show_physics:\n",
    "        vis.show_buttons(filter_=['physics'])\n",
    "        \n",
    "    return vis.show('users_graph.html')"
   ]
  },
  {
   "cell_type": "code",
   "execution_count": 11,
   "id": "discrete-nature",
   "metadata": {},
   "outputs": [],
   "source": [
    "elements_to_show = ['All', 'Only Communities']\n",
    "elements_to_show += communities_names"
   ]
  },
  {
   "cell_type": "code",
   "execution_count": 12,
   "id": "under-channel",
   "metadata": {},
   "outputs": [],
   "source": [
    "emotions_options = list(emotions)\n",
    "emotions_options.append(None)"
   ]
  },
  {
   "cell_type": "code",
   "execution_count": 13,
   "id": "entertaining-richardson",
   "metadata": {},
   "outputs": [
    {
     "data": {
      "application/vnd.jupyter.widget-view+json": {
       "model_id": "e57f8ce2181a467eaa3edf124ac88071",
       "version_major": 2,
       "version_minor": 0
      },
      "text/plain": [
       "interactive(children=(Dropdown(description='nodes', options=('artworks', 'users'), value='artworks'), Dropdown…"
      ]
     },
     "metadata": {},
     "output_type": "display_data"
    }
   ],
   "source": [
    "@interact_manual\n",
    "def show_graphs(nodes=['artworks', 'users'], emotion=emotions_options, elements=elements_to_show, show_physics=False):\n",
    "    return show_graph_users(emotion, show_physics, elements)\n",
    "    '''\n",
    "    if nodes == 'artworks':\n",
    "        return show_graph_artworks(emotion, show_physics)\n",
    "    else:\n",
    "        return show_graph_users(emotion, show_physics)\n",
    "    '''"
   ]
  },
  {
   "cell_type": "code",
   "execution_count": null,
   "id": "nervous-making",
   "metadata": {},
   "outputs": [],
   "source": []
  }
 ],
 "metadata": {
  "kernelspec": {
   "display_name": "Python 3",
   "language": "python",
   "name": "python3"
  },
  "language_info": {
   "codemirror_mode": {
    "name": "ipython",
    "version": 3
   },
   "file_extension": ".py",
   "mimetype": "text/x-python",
   "name": "python",
   "nbconvert_exporter": "python",
   "pygments_lexer": "ipython3",
   "version": "3.8.6"
  }
 },
 "nbformat": 4,
 "nbformat_minor": 5
}
