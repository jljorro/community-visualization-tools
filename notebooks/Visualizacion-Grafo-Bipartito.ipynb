{
 "cells": [
  {
   "cell_type": "code",
   "execution_count": 1,
   "id": "racial-ending",
   "metadata": {},
   "outputs": [],
   "source": [
    "import pandas as pd\n",
    "import numpy as np\n",
    "import itertools\n",
    "\n",
    "# Visualización de grafos\n",
    "from pyvis.network import Network\n",
    "\n",
    "# Interacciones en el notebook\n",
    "import ipywidgets as widgets\n",
    "from ipywidgets import interact, interact_manual"
   ]
  },
  {
   "cell_type": "code",
   "execution_count": 2,
   "id": "technical-fight",
   "metadata": {},
   "outputs": [],
   "source": [
    "# Load Data\n",
    "artworks_data = pd.read_csv('/data/Prado_artworks_wikidata.csv')\n",
    "interactions = pd.read_csv('/data/Prado_emotions.csv')\n",
    "\n",
    "# Creo diccionarios para obtener imagenes y títulos de los cuadros\n",
    "artwork_ids = np.unique(interactions.artworkId.values)\n",
    "artworks_dict = dict()\n",
    "images_dict = dict()\n",
    "for art_id in artwork_ids:\n",
    "    title = artworks_data[artworks_data['ID'] == art_id]['Title'].values[0]\n",
    "    image = artworks_data[artworks_data['ID'] == art_id]['Image URL'].values[0]\n",
    "    artworks_dict[art_id] = title\n",
    "    images_dict[art_id] = image\n",
    "    \n",
    "# Create array of emotions and its colors\n",
    "colors = ['#e6194b', '#3cb44b', '#ffe119', '#4363d8', '#f58231', '#911eb4', '#46f0f0', '#f032e6', '#bcf60c', '#fabebe', '#008080', '#e6beff', '#9a6324', '#fffac8', '#800000', '#aaffc3', '#808000', '#ffd8b1', '#000075', '#808080']\n",
    "emotions = np.unique(interactions['emotion'].values)\n",
    "emotions_colors = dict()\n",
    "for i in range(len(emotions)):\n",
    "    emotions_colors[emotions[i]] = colors[i]\n",
    "    \n",
    "emotions_options = list(emotions)\n",
    "emotions_options.append(None)"
   ]
  },
  {
   "cell_type": "code",
   "execution_count": 3,
   "id": "several-segment",
   "metadata": {},
   "outputs": [],
   "source": [
    "def get_edges(emotion=None):\n",
    "    \n",
    "    edges = []\n",
    "    aux_df = interactions\n",
    "    \n",
    "    if emotion != None:\n",
    "        aux_df = interactions[interactions['emotion'] == emotion]\n",
    "        \n",
    "    for inter in aux_df.values:\n",
    "        user = inter[0]\n",
    "        artwork = inter[1]\n",
    "        emotion = inter[2]\n",
    "        polarity = inter[3]\n",
    "        edges.append((str(user), artwork, emotion, polarity))\n",
    "        \n",
    "    return edges"
   ]
  },
  {
   "cell_type": "code",
   "execution_count": 4,
   "id": "cultural-christopher",
   "metadata": {},
   "outputs": [
    {
     "data": {
      "application/vnd.jupyter.widget-view+json": {
       "model_id": "35bc675b137943c5865aa13af23f6b3e",
       "version_major": 2,
       "version_minor": 0
      },
      "text/plain": [
       "interactive(children=(Dropdown(description='emotion', options=('agreeableness', 'anger', 'anticipation', 'arro…"
      ]
     },
     "metadata": {},
     "output_type": "display_data"
    }
   ],
   "source": [
    "@interact_manual\n",
    "def show_graph_bipartite(emotion=emotions_options, show_physics=False):\n",
    "    users = np.unique(interactions['userId'].values)\n",
    "    artworks = np.unique(interactions['artworkId'].values)\n",
    "    \n",
    "    edges = get_edges(emotion)\n",
    "    \n",
    "    vis = Network(notebook=True, width=\"1000px\", height=\"800px\")\n",
    "\n",
    "    for u in users:\n",
    "        vis.add_node(str(u), group=0, size=1)\n",
    "\n",
    "    for a in artworks:\n",
    "        vis.add_node(artworks_dict[a], group=1, size=30, shape='image', image=images_dict[a])\n",
    "        \n",
    "    for e in edges:\n",
    "        vis.add_edge(e[0], artworks_dict[e[1]], emotion=e[2], polarity=e[3], color=emotions_colors[e[2]])\n",
    "        \n",
    "    if show_physics:\n",
    "        vis.show_buttons(filter_=['physics'])\n",
    "        \n",
    "    return vis.show('graph_bipartite.html') "
   ]
  },
  {
   "cell_type": "code",
   "execution_count": null,
   "id": "fallen-member",
   "metadata": {},
   "outputs": [],
   "source": []
  }
 ],
 "metadata": {
  "kernelspec": {
   "display_name": "Python 3",
   "language": "python",
   "name": "python3"
  },
  "language_info": {
   "codemirror_mode": {
    "name": "ipython",
    "version": 3
   },
   "file_extension": ".py",
   "mimetype": "text/x-python",
   "name": "python",
   "nbconvert_exporter": "python",
   "pygments_lexer": "ipython3",
   "version": "3.8.6"
  }
 },
 "nbformat": 4,
 "nbformat_minor": 5
}
